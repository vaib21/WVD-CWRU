{
 "cells": [
  {
   "cell_type": "code",
   "execution_count": 1,
   "id": "3c2914ce-6481-4222-875f-ba01ee92ad85",
   "metadata": {},
   "outputs": [
    {
     "ename": "MemoryError",
     "evalue": "Unable to allocate 113. TiB for an array with shape (2782629, 2782629) and data type complex128",
     "output_type": "error",
     "traceback": [
      "\u001b[1;31m---------------------------------------------------------------------------\u001b[0m",
      "\u001b[1;31mMemoryError\u001b[0m                               Traceback (most recent call last)",
      "Cell \u001b[1;32mIn[1], line 18\u001b[0m\n\u001b[0;32m     15\u001b[0m ts \u001b[38;5;241m=\u001b[39m np\u001b[38;5;241m.\u001b[39marange(N) \u001b[38;5;241m/\u001b[39m sampling_rate\n\u001b[0;32m     17\u001b[0m \u001b[38;5;66;03m# Compute the Wigner-Ville Distribution\u001b[39;00m\n\u001b[1;32m---> 18\u001b[0m wvd \u001b[38;5;241m=\u001b[39m WignerVilleDistribution(signal, timestamps\u001b[38;5;241m=\u001b[39mts)\n\u001b[0;32m     19\u001b[0m tfr_wvd, t_wvd, f_wvd \u001b[38;5;241m=\u001b[39m wvd\u001b[38;5;241m.\u001b[39mrun()\n\u001b[0;32m     21\u001b[0m \u001b[38;5;66;03m# Plot the Wigner-Ville Distribution\u001b[39;00m\n",
      "File \u001b[1;32m~\\anaconda3\\Lib\\site-packages\\tftb\\processing\\base.py:50\u001b[0m, in \u001b[0;36mBaseTFRepresentation.__init__\u001b[1;34m(self, signal, timestamps, n_fbins, fwindow, **kwargs)\u001b[0m\n\u001b[0;32m     47\u001b[0m     freqs \u001b[38;5;241m=\u001b[39m np\u001b[38;5;241m.\u001b[39mr_[np\u001b[38;5;241m.\u001b[39marange((\u001b[38;5;28mself\u001b[39m\u001b[38;5;241m.\u001b[39mn_fbins \u001b[38;5;241m-\u001b[39m \u001b[38;5;241m1\u001b[39m) \u001b[38;5;241m/\u001b[39m \u001b[38;5;241m2\u001b[39m),\n\u001b[0;32m     48\u001b[0m                   np\u001b[38;5;241m.\u001b[39marange(\u001b[38;5;241m-\u001b[39m(\u001b[38;5;28mself\u001b[39m\u001b[38;5;241m.\u001b[39mn_fbins \u001b[38;5;241m-\u001b[39m \u001b[38;5;241m1\u001b[39m) \u001b[38;5;241m/\u001b[39m \u001b[38;5;241m2\u001b[39m, \u001b[38;5;241m0\u001b[39m)]\n\u001b[0;32m     49\u001b[0m \u001b[38;5;28mself\u001b[39m\u001b[38;5;241m.\u001b[39mfreqs \u001b[38;5;241m=\u001b[39m freqs \u001b[38;5;241m/\u001b[39m \u001b[38;5;28mself\u001b[39m\u001b[38;5;241m.\u001b[39mn_fbins\n\u001b[1;32m---> 50\u001b[0m \u001b[38;5;28mself\u001b[39m\u001b[38;5;241m.\u001b[39mtfr \u001b[38;5;241m=\u001b[39m np\u001b[38;5;241m.\u001b[39mzeros((\u001b[38;5;28mself\u001b[39m\u001b[38;5;241m.\u001b[39mn_fbins, \u001b[38;5;28mself\u001b[39m\u001b[38;5;241m.\u001b[39mts\u001b[38;5;241m.\u001b[39mshape[\u001b[38;5;241m0\u001b[39m]), dtype\u001b[38;5;241m=\u001b[39m\u001b[38;5;28mcomplex\u001b[39m)\n",
      "\u001b[1;31mMemoryError\u001b[0m: Unable to allocate 113. TiB for an array with shape (2782629, 2782629) and data type complex128"
     ]
    }
   ],
   "source": [
    "import pandas as pd\n",
    "import numpy as np\n",
    "import matplotlib.pyplot as plt\n",
    "from tftb.processing import WignerVilleDistribution\n",
    "\n",
    "# Load your dataset\n",
    "df = pd.read_csv('0hp_all_faults.csv')\n",
    "\n",
    "# Use the 'DE_data' column for the WVD analysis\n",
    "signal = df['DE_data'].values\n",
    "\n",
    "# Define the time vector based on the length of your signal\n",
    "sampling_rate = 48000  # 48 kHz for bearing end data\n",
    "N = len(signal)\n",
    "ts = np.arange(N) / sampling_rate\n",
    "\n",
    "# Compute the Wigner-Ville Distribution\n",
    "wvd = WignerVilleDistribution(signal, timestamps=ts)\n",
    "tfr_wvd, t_wvd, f_wvd = wvd.run()\n",
    "\n",
    "# Plot the Wigner-Ville Distribution\n",
    "plt.figure()\n",
    "plt.imshow(np.abs(tfr_wvd), aspect='auto', extent=[ts[0], ts[-1], 0, sampling_rate/2], origin='lower')\n",
    "plt.title('Wigner-Ville Distribution')\n",
    "plt.xlabel('Time [s]')\n",
    "plt.ylabel('Frequency [Hz]')\n",
    "plt.colorbar()\n",
    "plt.show()\n"
   ]
  },
  {
   "cell_type": "code",
   "execution_count": null,
   "id": "40829712-622f-4a01-8b37-08f31a2f39a4",
   "metadata": {},
   "outputs": [],
   "source": []
  }
 ],
 "metadata": {
  "kernelspec": {
   "display_name": "Python 3 (ipykernel)",
   "language": "python",
   "name": "python3"
  },
  "language_info": {
   "codemirror_mode": {
    "name": "ipython",
    "version": 3
   },
   "file_extension": ".py",
   "mimetype": "text/x-python",
   "name": "python",
   "nbconvert_exporter": "python",
   "pygments_lexer": "ipython3",
   "version": "3.11.7"
  }
 },
 "nbformat": 4,
 "nbformat_minor": 5
}
