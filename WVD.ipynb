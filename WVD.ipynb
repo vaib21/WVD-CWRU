{
 "cells": [
  {
   "cell_type": "code",
   "execution_count": 1,
   "id": "38f4ef11-3df8-4cb6-a41c-9b350d61f95e",
   "metadata": {},
   "outputs": [],
   "source": [
    "import numpy as np\n",
    "import pandas as pd\n",
    "import matplotlib.pyplot as plt\n",
    "from scipy.signal import hamming\n",
    "from scipy.signal import chirp\n",
    "\n"
   ]
  },
  {
   "cell_type": "code",
   "execution_count": 2,
   "id": "385d2f1a-415b-4afc-8e2f-e6e8bd8389d4",
   "metadata": {},
   "outputs": [],
   "source": [
    "# Load the datasets\n",
    "data_0hp = pd.read_csv('0hp_all_faults.csv')\n",
    "data_1hp = pd.read_csv('1hp_all_faults.csv')\n",
    "data_2hp = pd.read_csv('2hp_all_faults.csv')\n",
    "\n",
    "\n"
   ]
  },
  {
   "cell_type": "code",
   "execution_count": 3,
   "id": "8f9991bd-23ae-409e-aca5-774747fa54c6",
   "metadata": {},
   "outputs": [],
   "source": [
    "signal_0hp = data_0hp.iloc[:, 0].values\n",
    "signal_1hp = data_1hp.iloc[:, 0].values\n",
    "signal_2hp = data_2hp.iloc[:, 0].values\n",
    "\n",
    "def wvd(signal_segment):\n",
    "    N = len(signal_segment)\n",
    "    tfr = np.zeros((N, N), dtype=complex)\n",
    "    for n in range(N):\n",
    "        for m in range(-n, N-n):\n",
    "            tfr[n, (n+m) % N] += signal_segment[n] * np.conj(signal_segment[(n-m) % N])\n",
    "    return tfr\n",
    "\n",
    "def pwvd(signal_segment):\n",
    "    N = len(signal_segment)\n",
    "    window = hamming(N)\n",
    "    tfr = np.zeros((N, N), dtype=complex)\n",
    "    for n in range(N):\n",
    "        for m in range(-n, N-n):\n",
    "            tfr[n, (n+m) % N] += window[m] * signal_segment[n] * np.conj(signal_segment[(n-m) % N])\n",
    "    return tfr\n",
    "\n",
    "def spwvd(signal_segment):\n",
    "    N = len(signal_segment)\n",
    "    window = hamming(N)\n",
    "    smoothed_tfr = np.zeros((N, N), dtype=complex)\n",
    "    for n in range(N):\n",
    "        for m in range(-n, N-n):\n",
    "            smoothed_tfr[n, (n+m) % N] += window[m] * window[n] * signal_segment[n] * np.conj(signal_segment[(n-m) % N])\n",
    "    return smoothed_tfr\n",
    "\n",
    "def plot_tfr(tfr, title):\n",
    "    plt.figure(figsize=(10, 6))\n",
    "    plt.imshow(np.abs(tfr), aspect='auto', origin='lower', cmap='jet')\n",
    "    plt.title(title)\n",
    "    plt.xlabel('Time')\n",
    "    plt.ylabel('Frequency')\n",
    "    plt.colorbar()\n",
    "    plt.show()\n",
    "\n"
   ]
  },
  {
   "cell_type": "code",
   "execution_count": 4,
   "id": "a81bf6e9-f37b-4b0a-a8eb-6fe1bd092b41",
   "metadata": {},
   "outputs": [],
   "source": [
    "def process_signal(signal, segment_size=1024):\n",
    "    num_segments = len(signal) // segment_size\n",
    "    aggregated_tfr = None\n",
    "    \n",
    "    for i in range(num_segments):\n",
    "        segment = signal[i * segment_size: (i + 1) * segment_size]\n",
    "        tfr = spwvd(segment)  # Use spwvd, change to wvd or pwvd if needed\n",
    "        if aggregated_tfr is None:\n",
    "            aggregated_tfr = tfr\n",
    "        else:\n",
    "            aggregated_tfr = np.hstack((aggregated_tfr, tfr))\n",
    "    \n",
    "    return aggregated_tfr\n",
    "\n"
   ]
  },
  {
   "cell_type": "code",
   "execution_count": null,
   "id": "41d15cf7-bc98-4b74-9caf-bd8e9e26f687",
   "metadata": {},
   "outputs": [],
   "source": [
    "# Process and plot time-frequency representations for 0hp signal\n",
    "tfr_result_0hp = process_signal(signal_0hp, segment_size=1024)\n",
    "plot_tfr(tfr_result_0hp, 'Smoothed Pseudo-Wigner-Ville Distribution (0hp)')\n",
    "\n",
    "# Process and plot time-frequency representations for 1hp signal\n",
    "tfr_result_1hp = process_signal(signal_1hp, segment_size=1024)\n",
    "plot_tfr(tfr_result_1hp, 'Smoothed Pseudo-Wigner-Ville Distribution (1hp)')\n",
    "\n",
    "# Process and plot time-frequency representations for 2hp signal\n",
    "tfr_result_2hp = process_signal(signal_2hp, segment_size=1024)\n",
    "plot_tfr(tfr_result_2hp, 'Smoothed Pseudo-Wigner-Ville Distribution (2hp)')"
   ]
  },
  {
   "cell_type": "code",
   "execution_count": null,
   "id": "f18b2549-da16-4a35-a33f-9217446f6d74",
   "metadata": {},
   "outputs": [],
   "source": []
  },
  {
   "cell_type": "code",
   "execution_count": null,
   "id": "93764474-d23c-4d6e-935a-245f8993c58a",
   "metadata": {},
   "outputs": [],
   "source": []
  },
  {
   "cell_type": "code",
   "execution_count": null,
   "id": "39cf940f-a988-448c-9a1b-e4c33f9c5ee9",
   "metadata": {},
   "outputs": [],
   "source": []
  }
 ],
 "metadata": {
  "kernelspec": {
   "display_name": "TensorFlow Env",
   "language": "python",
   "name": "tensorflow_env"
  },
  "language_info": {
   "codemirror_mode": {
    "name": "ipython",
    "version": 3
   },
   "file_extension": ".py",
   "mimetype": "text/x-python",
   "name": "python",
   "nbconvert_exporter": "python",
   "pygments_lexer": "ipython3",
   "version": "3.8.15"
  }
 },
 "nbformat": 4,
 "nbformat_minor": 5
}
